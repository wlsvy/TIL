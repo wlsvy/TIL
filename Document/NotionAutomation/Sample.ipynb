{
 "cells": [
  {
   "cell_type": "markdown",
   "metadata": {},
   "source": [
    "> [notion-py](https://github.com/jamalex/notion-py#usage) <br/>\n",
    "> [notion-py API Document](https://notion-py.readthedocs.io/en/stable/index.html)"
   ]
  },
  {
   "cell_type": "code",
   "execution_count": 49,
   "metadata": {},
   "outputs": [
    {
     "name": "stdout",
     "output_type": "stream",
     "text": [
      "<notion.client.NotionClient object at 0x000002D33C858B80>\n",
      "id='6485647f-2f4b-4bfb-ac19-5211e43f91b0', title='본 것'\n",
      "MainPage: Id[id='6485647f-2f4b-4bfb-ac19-5211e43f91b0', title='본 것'], Title[본 것], Type[page]\n",
      "=====================\n",
      "childPage: Id[id='63d758d8-7e41-483e-bab7-def5d939f616', title='Book', collection=<Collection (id='1020e800-19a3-45eb-ac5e-1021ecd39229')>], Title[Book], Type[collection_view]\n",
      "childPage: Id[id='463f53fb-a691-4eb5-bbac-e68fb0bd5402', title='Game(Played)', collection=<Collection (id='fb5b4e94-aeeb-4ad3-802c-0709bc2a0023')>], Title[Game(Played)], Type[collection_view]\n",
      "childPage: Id[id='08ef2e14-56c3-4952-bea9-1577f878da83', title='Game', collection=<Collection (id='32a0e7d2-da77-463d-aad9-e84dbb9dbdcb')>], Title[Game], Type[collection_view]\n",
      "childPage: Id[id='d92f7ddf-d1d2-4965-a001-15574143c6c1', title='Movie & Drama', collection=<Collection (id='4a28971b-fe5b-4a91-82cb-ebfef063ec45')>], Title[Movie & Drama], Type[collection_view]\n",
      "childPage: Id[id='b99044ba-8880-417f-8044-70f03edf4cdd'], Title[], Type[text]\n",
      "childPage: Id[id='e0dd6085-fbfa-46b4-96b7-908b0cb90ef2'], Title[], Type[text]\n",
      "childPage: Id[id='93a4a008-90fd-4af8-a0e5-8275098ed262', title='2020년 이전 자료는 [여길(One Note)](https://onedrive.live.com/redir?resid=101AED5ADF4B43A9%21105&page=Edit&wd=target%28Book.one%7Cfde5d51c-0a36-414c-8ed8-448c4f85fb63%2F%2A%EC%96%BC%EC%9D%8C%EA%B3%BC%20%EB%B6%88%EC%9D%98%20%EB%85%B8%EB%9E%98%7Ca41f8961-98fd-484c-9681-813e9f00e7ec%2F%29)루'], Title[2020년 이전 자료는 [여길(One Note)](https://onedrive.live.com/redir?resid=101AED5ADF4B43A9%21105&page=Edit&wd=target%28Book.one%7Cfde5d51c-0a36-414c-8ed8-448c4f85fb63%2F%2A%EC%96%BC%EC%9D%8C%EA%B3%BC%20%EB%B6%88%EC%9D%98%20%EB%85%B8%EB%9E%98%7Ca41f8961-98fd-484c-9681-813e9f00e7ec%2F%29)루], Type[text]\n",
      "childPage: Id[id='0ae0ee43-b4fd-4f0f-b6fa-438de4b8af5d'], Title[], Type[text]\n",
      "=====================\n",
      "bookPage: Id[id='63d758d8-7e41-483e-bab7-def5d939f616', title='Book', collection=<Collection (id='1020e800-19a3-45eb-ac5e-1021ecd39229')>], Title[Book], Type[collection_view], collection[id='1020e800-19a3-45eb-ac5e-1021ecd39229']\n",
      "=====================\n"
     ]
    },
    {
     "ename": "HTTPError",
     "evalue": "Invalid input.",
     "output_type": "error",
     "traceback": [
      "\u001b[1;31m---------------------------------------------------------------------------\u001b[0m",
      "\u001b[1;31mHTTPError\u001b[0m                                 Traceback (most recent call last)",
      "\u001b[1;32m~\\AppData\\Local\\Temp/ipykernel_9008/192255577.py\u001b[0m in \u001b[0;36m<module>\u001b[1;34m\u001b[0m\n\u001b[0;32m     20\u001b[0m \u001b[0mprint\u001b[0m\u001b[1;33m(\u001b[0m\u001b[1;34m\"=====================\"\u001b[0m\u001b[1;33m)\u001b[0m\u001b[1;33m\u001b[0m\u001b[1;33m\u001b[0m\u001b[0m\n\u001b[0;32m     21\u001b[0m \u001b[0mlp\u001b[0m \u001b[1;33m=\u001b[0m \u001b[0mclient\u001b[0m\u001b[1;33m.\u001b[0m\u001b[0mget_collection_view\u001b[0m\u001b[1;33m(\u001b[0m\u001b[1;34m\"https://www.notion.so/63d758d87e41483ebab7def5d939f616?v=9da806e4055d47c8a69001705d6e9879\"\u001b[0m\u001b[1;33m)\u001b[0m\u001b[1;33m\u001b[0m\u001b[1;33m\u001b[0m\u001b[0m\n\u001b[1;32m---> 22\u001b[1;33m \u001b[1;32mfor\u001b[0m \u001b[0mrow\u001b[0m \u001b[1;32min\u001b[0m \u001b[0mlp\u001b[0m\u001b[1;33m.\u001b[0m\u001b[0mcollection\u001b[0m\u001b[1;33m.\u001b[0m\u001b[0mget_rows\u001b[0m\u001b[1;33m(\u001b[0m\u001b[1;33m)\u001b[0m\u001b[1;33m:\u001b[0m\u001b[1;33m\u001b[0m\u001b[1;33m\u001b[0m\u001b[0m\n\u001b[0m\u001b[0;32m     23\u001b[0m     \u001b[0mprint\u001b[0m\u001b[1;33m(\u001b[0m\u001b[0mrow\u001b[0m\u001b[1;33m)\u001b[0m\u001b[1;33m\u001b[0m\u001b[1;33m\u001b[0m\u001b[0m\n\u001b[0;32m     24\u001b[0m \u001b[1;33m\u001b[0m\u001b[0m\n",
      "\u001b[1;32m~\\AppData\\Local\\Programs\\Python\\Python310\\lib\\site-packages\\notion\\collection.py\u001b[0m in \u001b[0;36mget_rows\u001b[1;34m(self, **kwargs)\u001b[0m\n\u001b[0;32m    237\u001b[0m \u001b[1;33m\u001b[0m\u001b[0m\n\u001b[0;32m    238\u001b[0m     \u001b[1;32mdef\u001b[0m \u001b[0mget_rows\u001b[0m\u001b[1;33m(\u001b[0m\u001b[0mself\u001b[0m\u001b[1;33m,\u001b[0m \u001b[1;33m**\u001b[0m\u001b[0mkwargs\u001b[0m\u001b[1;33m)\u001b[0m\u001b[1;33m:\u001b[0m\u001b[1;33m\u001b[0m\u001b[1;33m\u001b[0m\u001b[0m\n\u001b[1;32m--> 239\u001b[1;33m         \u001b[1;32mreturn\u001b[0m \u001b[0mself\u001b[0m\u001b[1;33m.\u001b[0m\u001b[0mquery\u001b[0m\u001b[1;33m(\u001b[0m\u001b[1;33m**\u001b[0m\u001b[0mkwargs\u001b[0m\u001b[1;33m)\u001b[0m\u001b[1;33m\u001b[0m\u001b[1;33m\u001b[0m\u001b[0m\n\u001b[0m\u001b[0;32m    240\u001b[0m \u001b[1;33m\u001b[0m\u001b[0m\n\u001b[0;32m    241\u001b[0m     \u001b[1;32mdef\u001b[0m \u001b[0m_convert_diff_to_changelist\u001b[0m\u001b[1;33m(\u001b[0m\u001b[0mself\u001b[0m\u001b[1;33m,\u001b[0m \u001b[0mdifference\u001b[0m\u001b[1;33m,\u001b[0m \u001b[0mold_val\u001b[0m\u001b[1;33m,\u001b[0m \u001b[0mnew_val\u001b[0m\u001b[1;33m)\u001b[0m\u001b[1;33m:\u001b[0m\u001b[1;33m\u001b[0m\u001b[1;33m\u001b[0m\u001b[0m\n",
      "\u001b[1;32m~\\AppData\\Local\\Programs\\Python\\Python310\\lib\\site-packages\\notion\\collection.py\u001b[0m in \u001b[0;36mquery\u001b[1;34m(self, **kwargs)\u001b[0m\n\u001b[0;32m    234\u001b[0m \u001b[1;33m\u001b[0m\u001b[0m\n\u001b[0;32m    235\u001b[0m     \u001b[1;32mdef\u001b[0m \u001b[0mquery\u001b[0m\u001b[1;33m(\u001b[0m\u001b[0mself\u001b[0m\u001b[1;33m,\u001b[0m \u001b[1;33m**\u001b[0m\u001b[0mkwargs\u001b[0m\u001b[1;33m)\u001b[0m\u001b[1;33m:\u001b[0m\u001b[1;33m\u001b[0m\u001b[1;33m\u001b[0m\u001b[0m\n\u001b[1;32m--> 236\u001b[1;33m         \u001b[1;32mreturn\u001b[0m \u001b[0mCollectionQuery\u001b[0m\u001b[1;33m(\u001b[0m\u001b[0mself\u001b[0m\u001b[1;33m,\u001b[0m \u001b[0mself\u001b[0m\u001b[1;33m.\u001b[0m\u001b[0m_get_a_collection_view\u001b[0m\u001b[1;33m(\u001b[0m\u001b[1;33m)\u001b[0m\u001b[1;33m,\u001b[0m \u001b[1;33m**\u001b[0m\u001b[0mkwargs\u001b[0m\u001b[1;33m)\u001b[0m\u001b[1;33m.\u001b[0m\u001b[0mexecute\u001b[0m\u001b[1;33m(\u001b[0m\u001b[1;33m)\u001b[0m\u001b[1;33m\u001b[0m\u001b[1;33m\u001b[0m\u001b[0m\n\u001b[0m\u001b[0;32m    237\u001b[0m \u001b[1;33m\u001b[0m\u001b[0m\n\u001b[0;32m    238\u001b[0m     \u001b[1;32mdef\u001b[0m \u001b[0mget_rows\u001b[0m\u001b[1;33m(\u001b[0m\u001b[0mself\u001b[0m\u001b[1;33m,\u001b[0m \u001b[1;33m**\u001b[0m\u001b[0mkwargs\u001b[0m\u001b[1;33m)\u001b[0m\u001b[1;33m:\u001b[0m\u001b[1;33m\u001b[0m\u001b[1;33m\u001b[0m\u001b[0m\n",
      "\u001b[1;32m~\\AppData\\Local\\Programs\\Python\\Python310\\lib\\site-packages\\notion\\collection.py\u001b[0m in \u001b[0;36mexecute\u001b[1;34m(self)\u001b[0m\n\u001b[0;32m    383\u001b[0m         return result_class(\n\u001b[0;32m    384\u001b[0m             \u001b[0mself\u001b[0m\u001b[1;33m.\u001b[0m\u001b[0mcollection\u001b[0m\u001b[1;33m,\u001b[0m\u001b[1;33m\u001b[0m\u001b[1;33m\u001b[0m\u001b[0m\n\u001b[1;32m--> 385\u001b[1;33m             self._client.query_collection(\n\u001b[0m\u001b[0;32m    386\u001b[0m                 \u001b[0mcollection_id\u001b[0m\u001b[1;33m=\u001b[0m\u001b[0mself\u001b[0m\u001b[1;33m.\u001b[0m\u001b[0mcollection\u001b[0m\u001b[1;33m.\u001b[0m\u001b[0mid\u001b[0m\u001b[1;33m,\u001b[0m\u001b[1;33m\u001b[0m\u001b[1;33m\u001b[0m\u001b[0m\n\u001b[0;32m    387\u001b[0m                 \u001b[0mcollection_view_id\u001b[0m\u001b[1;33m=\u001b[0m\u001b[0mself\u001b[0m\u001b[1;33m.\u001b[0m\u001b[0mcollection_view\u001b[0m\u001b[1;33m.\u001b[0m\u001b[0mid\u001b[0m\u001b[1;33m,\u001b[0m\u001b[1;33m\u001b[0m\u001b[1;33m\u001b[0m\u001b[0m\n",
      "\u001b[1;32m~\\AppData\\Local\\Programs\\Python\\Python310\\lib\\site-packages\\notion\\client.py\u001b[0m in \u001b[0;36mquery_collection\u001b[1;34m(self, *args, **kwargs)\u001b[0m\n\u001b[0;32m    292\u001b[0m \u001b[1;33m\u001b[0m\u001b[0m\n\u001b[0;32m    293\u001b[0m     \u001b[1;32mdef\u001b[0m \u001b[0mquery_collection\u001b[0m\u001b[1;33m(\u001b[0m\u001b[0mself\u001b[0m\u001b[1;33m,\u001b[0m \u001b[1;33m*\u001b[0m\u001b[0margs\u001b[0m\u001b[1;33m,\u001b[0m \u001b[1;33m**\u001b[0m\u001b[0mkwargs\u001b[0m\u001b[1;33m)\u001b[0m\u001b[1;33m:\u001b[0m\u001b[1;33m\u001b[0m\u001b[1;33m\u001b[0m\u001b[0m\n\u001b[1;32m--> 294\u001b[1;33m         \u001b[1;32mreturn\u001b[0m \u001b[0mself\u001b[0m\u001b[1;33m.\u001b[0m\u001b[0m_store\u001b[0m\u001b[1;33m.\u001b[0m\u001b[0mcall_query_collection\u001b[0m\u001b[1;33m(\u001b[0m\u001b[1;33m*\u001b[0m\u001b[0margs\u001b[0m\u001b[1;33m,\u001b[0m \u001b[1;33m**\u001b[0m\u001b[0mkwargs\u001b[0m\u001b[1;33m)\u001b[0m\u001b[1;33m\u001b[0m\u001b[1;33m\u001b[0m\u001b[0m\n\u001b[0m\u001b[0;32m    295\u001b[0m \u001b[1;33m\u001b[0m\u001b[0m\n\u001b[0;32m    296\u001b[0m     \u001b[1;32mdef\u001b[0m \u001b[0mas_atomic_transaction\u001b[0m\u001b[1;33m(\u001b[0m\u001b[0mself\u001b[0m\u001b[1;33m)\u001b[0m\u001b[1;33m:\u001b[0m\u001b[1;33m\u001b[0m\u001b[1;33m\u001b[0m\u001b[0m\n",
      "\u001b[1;32m~\\AppData\\Local\\Programs\\Python\\Python310\\lib\\site-packages\\notion\\store.py\u001b[0m in \u001b[0;36mcall_query_collection\u001b[1;34m(self, collection_id, collection_view_id, search, type, aggregate, aggregations, filter, sort, calendar_by, group_by)\u001b[0m\n\u001b[0;32m    342\u001b[0m         }\n\u001b[0;32m    343\u001b[0m \u001b[1;33m\u001b[0m\u001b[0m\n\u001b[1;32m--> 344\u001b[1;33m         \u001b[0mresponse\u001b[0m \u001b[1;33m=\u001b[0m \u001b[0mself\u001b[0m\u001b[1;33m.\u001b[0m\u001b[0m_client\u001b[0m\u001b[1;33m.\u001b[0m\u001b[0mpost\u001b[0m\u001b[1;33m(\u001b[0m\u001b[1;34m\"queryCollection\"\u001b[0m\u001b[1;33m,\u001b[0m \u001b[0mdata\u001b[0m\u001b[1;33m)\u001b[0m\u001b[1;33m.\u001b[0m\u001b[0mjson\u001b[0m\u001b[1;33m(\u001b[0m\u001b[1;33m)\u001b[0m\u001b[1;33m\u001b[0m\u001b[1;33m\u001b[0m\u001b[0m\n\u001b[0m\u001b[0;32m    345\u001b[0m \u001b[1;33m\u001b[0m\u001b[0m\n\u001b[0;32m    346\u001b[0m         \u001b[0mself\u001b[0m\u001b[1;33m.\u001b[0m\u001b[0mstore_recordmap\u001b[0m\u001b[1;33m(\u001b[0m\u001b[0mresponse\u001b[0m\u001b[1;33m[\u001b[0m\u001b[1;34m\"recordMap\"\u001b[0m\u001b[1;33m]\u001b[0m\u001b[1;33m)\u001b[0m\u001b[1;33m\u001b[0m\u001b[1;33m\u001b[0m\u001b[0m\n",
      "\u001b[1;32m~\\AppData\\Local\\Programs\\Python\\Python310\\lib\\site-packages\\notion\\client.py\u001b[0m in \u001b[0;36mpost\u001b[1;34m(self, endpoint, data)\u001b[0m\n\u001b[0;32m    258\u001b[0m                 )\n\u001b[0;32m    259\u001b[0m             )\n\u001b[1;32m--> 260\u001b[1;33m             raise HTTPError(\n\u001b[0m\u001b[0;32m    261\u001b[0m                 response.json().get(\n\u001b[0;32m    262\u001b[0m                     \u001b[1;34m\"message\"\u001b[0m\u001b[1;33m,\u001b[0m \u001b[1;34m\"There was an error (400) submitting the request.\"\u001b[0m\u001b[1;33m\u001b[0m\u001b[1;33m\u001b[0m\u001b[0m\n",
      "\u001b[1;31mHTTPError\u001b[0m: Invalid input."
     ]
    }
   ],
   "source": [
    "from notion.client import NotionClient\n",
    "\n",
    "client = NotionClient(token_v2 = \"2f610594f0f8c246cd75d7cb71c2b441a1c4369d707a8d36bf2f1e083b20b5ba96f227376e7a4f38fa61f46f02c5afc265a25f12b1808074b2a47b2086597418a2304500b4841a0c3c86a8dd1881\")\n",
    "print(client)\n",
    "\n",
    "mainPage = client.get_block(\"https://www.notion.so/6485647f2f4b4bfbac195211e43f91b0\")\n",
    "print(mainPage)\n",
    "print(f'MainPage: Id[{mainPage}], Title[{mainPage.title}], Type[{mainPage.type}]')\n",
    "\n",
    "print(\"=====================\")\n",
    "\n",
    "for child in mainPage.children:\n",
    "    print(f'childPage: Id[{child}], Title[{child.title}], Type[{child.type}]')\n",
    "    \n",
    "print(\"=====================\")\n",
    "    \n",
    "bookPage = client.get_block(\"https://www.notion.so/63d758d87e41483ebab7def5d939f616?v=9da806e4055d47c8a69001705d6e9879\")\n",
    "print(f'bookPage: Id[{bookPage}], Title[{bookPage.title}], Type[{bookPage.type}], collection[{bookPage.collection}]')\n",
    "\n",
    "print(\"=====================\")\n",
    "\n",
    "\n"
   ]
  },
  {
   "cell_type": "code",
   "execution_count": 86,
   "metadata": {},
   "outputs": [
    {
     "name": "stdout",
     "output_type": "stream",
     "text": [
      "collection_view\n"
     ]
    },
    {
     "ename": "AttributeError",
     "evalue": "'CollectionViewBlock' object has no attribute 'get_property'",
     "output_type": "error",
     "traceback": [
      "\u001b[1;31m---------------------------------------------------------------------------\u001b[0m",
      "\u001b[1;31mAttributeError\u001b[0m                            Traceback (most recent call last)",
      "\u001b[1;32m~\\AppData\\Local\\Temp/ipykernel_9008/551723901.py\u001b[0m in \u001b[0;36m<module>\u001b[1;34m\u001b[0m\n\u001b[0;32m      3\u001b[0m \u001b[1;33m\u001b[0m\u001b[0m\n\u001b[0;32m      4\u001b[0m \u001b[0mprint\u001b[0m\u001b[1;33m(\u001b[0m\u001b[0mcb\u001b[0m\u001b[1;33m.\u001b[0m\u001b[0mtype\u001b[0m\u001b[1;33m)\u001b[0m\u001b[1;33m\u001b[0m\u001b[1;33m\u001b[0m\u001b[0m\n\u001b[1;32m----> 5\u001b[1;33m \u001b[0mprint\u001b[0m\u001b[1;33m(\u001b[0m\u001b[0mcb\u001b[0m\u001b[1;33m.\u001b[0m\u001b[0mget_property\u001b[0m\u001b[1;33m(\u001b[0m\u001b[1;33m)\u001b[0m\u001b[1;33m)\u001b[0m\u001b[1;33m\u001b[0m\u001b[1;33m\u001b[0m\u001b[0m\n\u001b[0m",
      "\u001b[1;31mAttributeError\u001b[0m: 'CollectionViewBlock' object has no attribute 'get_property'"
     ]
    }
   ],
   "source": [
    "lp = client.get_collection_view(\"https://www.notion.so/63d758d87e41483ebab7def5d939f616?v=9da806e4055d47c8a69001705d6e9879\")\n",
    "cb =client.get_block(\"https://www.notion.so/63d758d87e41483ebab7def5d939f616?v=9da806e4055d47c8a69001705d6e9879\")\n",
    "\n",
    "print(cb.type)\n",
    "print(cb.)\n"
   ]
  },
  {
   "cell_type": "code",
   "execution_count": null,
   "metadata": {},
   "outputs": [],
   "source": []
  }
 ],
 "metadata": {
  "interpreter": {
   "hash": "5d0eaaa9dd143a769a54556b1585b41570fe94fa034433422e34e55eeb110325"
  },
  "kernelspec": {
   "display_name": "Python 3.10.0 64-bit",
   "language": "python",
   "name": "python3"
  },
  "language_info": {
   "codemirror_mode": {
    "name": "ipython",
    "version": 3
   },
   "file_extension": ".py",
   "mimetype": "text/x-python",
   "name": "python",
   "nbconvert_exporter": "python",
   "pygments_lexer": "ipython3",
   "version": "3.10.0"
  },
  "orig_nbformat": 4
 },
 "nbformat": 4,
 "nbformat_minor": 2
}
