{
 "cells": [
  {
   "cell_type": "markdown",
   "metadata": {},
   "source": [
    "> [notion-py](https://github.com/jamalex/notion-py#usage) <br/>\n",
    "> [notion-py API Document](https://notion-py.readthedocs.io/en/stable/index.html)"
   ]
  },
  {
   "cell_type": "code",
   "execution_count": 18,
   "metadata": {},
   "outputs": [
    {
     "ename": "ImportError",
     "evalue": "cannot import name 'Block' from 'notion.block' (C:\\Users\\hubjp\\AppData\\Local\\Programs\\Python\\Python310\\lib\\site-packages\\notion\\block\\__init__.py)",
     "output_type": "error",
     "traceback": [
      "\u001b[1;31m---------------------------------------------------------------------------\u001b[0m",
      "\u001b[1;31mImportError\u001b[0m                               Traceback (most recent call last)",
      "\u001b[1;32m~\\AppData\\Local\\Temp/ipykernel_14636/4244573483.py\u001b[0m in \u001b[0;36m<module>\u001b[1;34m\u001b[0m\n\u001b[1;32m----> 1\u001b[1;33m \u001b[1;32mfrom\u001b[0m \u001b[0mnotion\u001b[0m\u001b[1;33m.\u001b[0m\u001b[0mclient\u001b[0m \u001b[1;32mimport\u001b[0m \u001b[0mNotionClient\u001b[0m\u001b[1;33m\u001b[0m\u001b[1;33m\u001b[0m\u001b[0m\n\u001b[0m\u001b[0;32m      2\u001b[0m \u001b[1;33m\u001b[0m\u001b[0m\n\u001b[0;32m      3\u001b[0m \u001b[0mclient\u001b[0m \u001b[1;33m=\u001b[0m \u001b[0mNotionClient\u001b[0m\u001b[1;33m(\u001b[0m\u001b[0mtoken_v2\u001b[0m \u001b[1;33m=\u001b[0m \u001b[1;34m\"2f610594f0f8c246cd75d7cb71c2b441a1c4369d707a8d36bf2f1e083b20b5ba96f227376e7a4f38fa61f46f02c5afc265a25f12b1808074b2a47b2086597418a2304500b4841a0c3c86a8dd1881\"\u001b[0m\u001b[1;33m)\u001b[0m\u001b[1;33m\u001b[0m\u001b[1;33m\u001b[0m\u001b[0m\n\u001b[0;32m      4\u001b[0m \u001b[0mprint\u001b[0m\u001b[1;33m(\u001b[0m\u001b[0mclient\u001b[0m\u001b[1;33m)\u001b[0m\u001b[1;33m\u001b[0m\u001b[1;33m\u001b[0m\u001b[0m\n\u001b[0;32m      5\u001b[0m \u001b[1;33m\u001b[0m\u001b[0m\n",
      "\u001b[1;32m~\\AppData\\Local\\Programs\\Python\\Python310\\lib\\site-packages\\notion\\client.py\u001b[0m in \u001b[0;36m<module>\u001b[1;34m\u001b[0m\n\u001b[0;32m     11\u001b[0m \u001b[1;32mfrom\u001b[0m \u001b[0mgetpass\u001b[0m \u001b[1;32mimport\u001b[0m \u001b[0mgetpass\u001b[0m\u001b[1;33m\u001b[0m\u001b[1;33m\u001b[0m\u001b[0m\n\u001b[0;32m     12\u001b[0m \u001b[1;33m\u001b[0m\u001b[0m\n\u001b[1;32m---> 13\u001b[1;33m \u001b[1;32mfrom\u001b[0m \u001b[1;33m.\u001b[0m\u001b[0mblock\u001b[0m \u001b[1;32mimport\u001b[0m \u001b[0mBlock\u001b[0m\u001b[1;33m,\u001b[0m \u001b[0mBLOCK_TYPES\u001b[0m\u001b[1;33m\u001b[0m\u001b[1;33m\u001b[0m\u001b[0m\n\u001b[0m\u001b[0;32m     14\u001b[0m from .collection import (\n\u001b[0;32m     15\u001b[0m     \u001b[0mCollection\u001b[0m\u001b[1;33m,\u001b[0m\u001b[1;33m\u001b[0m\u001b[1;33m\u001b[0m\u001b[0m\n",
      "\u001b[1;31mImportError\u001b[0m: cannot import name 'Block' from 'notion.block' (C:\\Users\\hubjp\\AppData\\Local\\Programs\\Python\\Python310\\lib\\site-packages\\notion\\block\\__init__.py)"
     ]
    }
   ],
   "source": [
    "from notion.client import NotionClient\n",
    "\n",
    "client = NotionClient(token_v2 = \"2f610594f0f8c246cd75d7cb71c2b441a1c4369d707a8d36bf2f1e083b20b5ba96f227376e7a4f38fa61f46f02c5afc265a25f12b1808074b2a47b2086597418a2304500b4841a0c3c86a8dd1881\")\n",
    "print(client)\n",
    "\n",
    "mainPage = client.get_block(\"https://www.notion.so/6485647f2f4b4bfbac195211e43f91b0\")\n",
    "print(mainPage)\n",
    "print(f'MainPage: Id[{mainPage}], Title[{mainPage.title}], Type[{mainPage.type}]')\n",
    "\n",
    "print(\"=====================\")\n",
    "\n",
    "for child in mainPage.children:\n",
    "    print(f'childPage: Id[{child}], Title[{child.title}], Type[{child.type}]')\n",
    "    \n",
    "print(\"=====================\")\n",
    "    \n",
    "bookPage = client.get_block(\"https://www.notion.so/63d758d87e41483ebab7def5d939f616?v=9da806e4055d47c8a69001705d6e9879\")\n",
    "print(f'bookPage: Id[{bookPage}], Title[{bookPage.title}], Type[{bookPage.type}], collection[{bookPage.collection}]')\n",
    "\n",
    "print(\"=====================\")\n",
    "\n",
    "\n"
   ]
  },
  {
   "cell_type": "code",
   "execution_count": 86,
   "metadata": {},
   "outputs": [
    {
     "name": "stdout",
     "output_type": "stream",
     "text": [
      "collection_view\n"
     ]
    },
    {
     "ename": "AttributeError",
     "evalue": "'CollectionViewBlock' object has no attribute 'get_property'",
     "output_type": "error",
     "traceback": [
      "\u001b[1;31m---------------------------------------------------------------------------\u001b[0m",
      "\u001b[1;31mAttributeError\u001b[0m                            Traceback (most recent call last)",
      "\u001b[1;32m~\\AppData\\Local\\Temp/ipykernel_9008/551723901.py\u001b[0m in \u001b[0;36m<module>\u001b[1;34m\u001b[0m\n\u001b[0;32m      3\u001b[0m \u001b[1;33m\u001b[0m\u001b[0m\n\u001b[0;32m      4\u001b[0m \u001b[0mprint\u001b[0m\u001b[1;33m(\u001b[0m\u001b[0mcb\u001b[0m\u001b[1;33m.\u001b[0m\u001b[0mtype\u001b[0m\u001b[1;33m)\u001b[0m\u001b[1;33m\u001b[0m\u001b[1;33m\u001b[0m\u001b[0m\n\u001b[1;32m----> 5\u001b[1;33m \u001b[0mprint\u001b[0m\u001b[1;33m(\u001b[0m\u001b[0mcb\u001b[0m\u001b[1;33m.\u001b[0m\u001b[0mget_property\u001b[0m\u001b[1;33m(\u001b[0m\u001b[1;33m)\u001b[0m\u001b[1;33m)\u001b[0m\u001b[1;33m\u001b[0m\u001b[1;33m\u001b[0m\u001b[0m\n\u001b[0m",
      "\u001b[1;31mAttributeError\u001b[0m: 'CollectionViewBlock' object has no attribute 'get_property'"
     ]
    }
   ],
   "source": [
    "lp = client.get_collection_view(\"https://www.notion.so/63d758d87e41483ebab7def5d939f616?v=9da806e4055d47c8a69001705d6e9879\")\n",
    "cb =client.get_block(\"https://www.notion.so/63d758d87e41483ebab7def5d939f616?v=9da806e4055d47c8a69001705d6e9879\")\n",
    "\n",
    "print(cb.type)\n",
    "print(cb.)\n"
   ]
  }
 ],
 "metadata": {
  "interpreter": {
   "hash": "5d0eaaa9dd143a769a54556b1585b41570fe94fa034433422e34e55eeb110325"
  },
  "kernelspec": {
   "display_name": "Python 3.10.0 64-bit",
   "language": "python",
   "name": "python3"
  },
  "language_info": {
   "codemirror_mode": {
    "name": "ipython",
    "version": 3
   },
   "file_extension": ".py",
   "mimetype": "text/x-python",
   "name": "python",
   "nbconvert_exporter": "python",
   "pygments_lexer": "ipython3",
   "version": "3.10.0"
  },
  "orig_nbformat": 4
 },
 "nbformat": 4,
 "nbformat_minor": 2
}
