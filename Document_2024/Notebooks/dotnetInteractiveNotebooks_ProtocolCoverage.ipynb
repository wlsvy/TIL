{
 "cells": [
  {
   "cell_type": "code",
   "execution_count": null,
   "metadata": {
    "dotnet_interactive": {
     "language": "csharp"
    },
    "polyglot_notebook": {
     "kernelName": "csharp"
    }
   },
   "outputs": [],
   "source": [
    "using static System.Console;\n",
    "WriteLine($\"Hello World\");"
   ]
  },
  {
   "cell_type": "code",
   "execution_count": 4,
   "metadata": {
    "dotnet_interactive": {
     "language": "csharp"
    },
    "polyglot_notebook": {
     "kernelName": "csharp"
    }
   },
   "outputs": [],
   "source": [
    "string unprocessed = $\"\"\"\n",
    "Notify_CHANNEL_LoadStageCompleted(bool isReconnecting, bool forceSend = false)\n",
    "Notify_CHANNEL_SendSkillInput(SkillSheetId skillSheetId, SkillCommandType skillCommandType, ChannelObjectId targetObjectId, bool forceSend = false)\n",
    "Notify_CHANNEL_StopRestEmotion(bool forceSend = false)\n",
    "Notify_CHANNEL_BeginCombat(ChannelObjectId targetObjectId, bool forceSend = false)\n",
    "Notify_CHANNEL_BeginInteractionBehavior(ChannelObjectId targetObjectId, bool forceSend = false)\n",
    "Notify_CHANNEL_BeginKnockingGatherBehavior(ChannelObjectId targetObjectId, bool forceSend = false)\n",
    "\"\"\";"
   ]
  },
  {
   "cell_type": "code",
   "execution_count": 5,
   "metadata": {
    "dotnet_interactive": {
     "language": "csharp"
    },
    "polyglot_notebook": {
     "kernelName": "csharp"
    }
   },
   "outputs": [],
   "source": [
    "string oldList = $\"\"\"\n",
    "Notify_CHANNEL_LoadStageCompleted\n",
    "Notify_CHANNEL_SendSkillInput\n",
    "Notify_CHANNEL_AchievementCategoryRewardRequest\n",
    "Notify_CHANNEL_AchievementRewardRequest\n",
    "Notify_CHANNEL_AutoCombatStateChangedByUser\n",
    "Notify_CHANNEL_BattlefieldEntranceUIClosed\n",
    "Notify_CHANNEL_BattlefieldEntranceUIOpened\n",
    "\"\"\";"
   ]
  },
  {
   "cell_type": "code",
   "execution_count": 7,
   "metadata": {
    "dotnet_interactive": {
     "language": "csharp"
    },
    "polyglot_notebook": {
     "kernelName": "csharp"
    }
   },
   "outputs": [
    {
     "name": "stdout",
     "output_type": "stream",
     "text": [
      "===========NewValues===========\n",
      "Notify_CHANNEL_LoadStageCompleted\n",
      "\tNotify_CHANNEL_SendSkillInput\n",
      "\tNotify_CHANNEL_StopRestEmotion\n",
      "\tNotify_CHANNEL_BeginCombat\n",
      "\tNotify_CHANNEL_BeginInteractionBehavior\n",
      "===========OldValues===========\n",
      "Notify_CHANNEL_LoadStageCompleted\n",
      "\tNotify_CHANNEL_SendSkillInput\n",
      "\tNotify_CHANNEL_AchievementCategoryRewardRequest\n",
      "\tNotify_CHANNEL_AchievementRewardRequest\n",
      "\tNotify_CHANNEL_AutoCombatStateChangedByUser\n",
      "===========Newly Added===========\n",
      "Notify_CHANNEL_BeginCombat\n",
      "Notify_CHANNEL_BeginInteractionBehavior\n",
      "Notify_CHANNEL_BeginKnockingGatherBehavior\n",
      "Notify_CHANNEL_StopRestEmotion\n",
      "===========Removed===========\n",
      "Notify_CHANNEL_AchievementCategoryRewardRequest\n",
      "Notify_CHANNEL_AchievementRewardRequest\n",
      "Notify_CHANNEL_AutoCombatStateChangedByUser\n",
      "Notify_CHANNEL_BattlefieldEntranceUIClosed\n",
      "Notify_CHANNEL_BattlefieldEntranceUIOpened\n",
      "======================\n"
     ]
    }
   ],
   "source": [
    "string Preprocess(string singleLine)\n",
    "{\n",
    "    var i = singleLine.IndexOf('(');\n",
    "    if(i == -1)\n",
    "    {\n",
    "        WriteLine(singleLine + \"얘좀 이상\");\n",
    "        return string.Empty;\n",
    "    }\n",
    "    //return singleLine;\n",
    "    return singleLine[..i];\n",
    "}\n",
    "\n",
    "\n",
    "string[] ToStrings(string lines)\n",
    "{\n",
    "    var ret = new List<string>();\n",
    "    foreach(var line in lines.AsSpan().EnumerateLines())\n",
    "    {\n",
    "        ret.Add(line.ToString());\n",
    "    }\n",
    "    \n",
    "    return ret.ToArray();\n",
    "}\n",
    "\n",
    "var newCol = ToStrings(unprocessed)\n",
    "    .Select(x => Preprocess(x))\n",
    "    .ToArray();\n",
    "var oldCol = ToStrings(oldList);\n",
    "WriteLine(\"===========NewValues===========\");\n",
    "WriteLine(string.Join(\"\\n\", newCol.Take(5)));\n",
    "WriteLine(\"===========OldValues===========\");\n",
    "WriteLine(string.Join(\"\\n\", oldCol.Take(5)));\n",
    "\n",
    "WriteLine(\"===========Newly Added===========\");\n",
    "WriteLine(string.Join(\"\\n\", newCol.Except(oldCol).Distinct().OrderBy(x => x)));\n",
    "WriteLine(\"===========Removed===========\");\n",
    "WriteLine(string.Join(\"\\n\", oldCol.Except(newCol).Distinct().OrderBy(x => x)));\n",
    "WriteLine(\"======================\");"
   ]
  },
  {
   "cell_type": "code",
   "execution_count": null,
   "metadata": {
    "dotnet_interactive": {
     "language": "csharp"
    },
    "polyglot_notebook": {
     "kernelName": "csharp"
    }
   },
   "outputs": [],
   "source": []
  },
  {
   "cell_type": "markdown",
   "metadata": {},
   "source": []
  }
 ],
 "metadata": {
  "kernelspec": {
   "display_name": ".NET (C#)",
   "language": "C#",
   "name": ".net-csharp"
  },
  "language_info": {
   "name": "polyglot-notebook"
  },
  "polyglot_notebook": {
   "kernelInfo": {
    "defaultKernelName": "csharp",
    "items": [
     {
      "aliases": [],
      "languageName": "csharp",
      "name": "csharp"
     }
    ]
   }
  }
 },
 "nbformat": 4,
 "nbformat_minor": 2
}
