{
 "cells": [
  {
   "cell_type": "code",
   "execution_count": null,
   "metadata": {
    "dotnet_interactive": {
     "language": "csharp"
    },
    "polyglot_notebook": {
     "kernelName": "csharp"
    }
   },
   "outputs": [],
   "source": [
    "using static System.Console;\n",
    "WriteLine($\"Hello World\");"
   ]
  },
  {
   "cell_type": "code",
   "execution_count": null,
   "metadata": {
    "dotnet_interactive": {
     "language": "csharp"
    },
    "polyglot_notebook": {
     "kernelName": "csharp"
    }
   },
   "outputs": [],
   "source": [
    "string unprocessed = $\"\"\"\n",
    "Notify_CHANNEL_LoadStageCompleted(bool isReconnecting, bool forceSend = false)\n",
    "Notify_CHANNEL_SendSkillInput(SkillSheetId skillSheetId, SkillCommandType skillCommandType, ChannelObjectId targetObjectId, bool forceSend = false)\n",
    "Notify_CHANNEL_StopRestEmotion(bool forceSend = false)\n",
    "Notify_CHANNEL_BeginCombat(ChannelObjectId targetObjectId, bool forceSend = false)\n",
    "Notify_CHANNEL_BeginInteractionBehavior(ChannelObjectId targetObjectId, bool forceSend = false)\n",
    "Notify_CHANNEL_BeginKnockingGatherBehavior(ChannelObjectId targetObjectId, bool forceSend = false)\n",
    "\"\"\";"
   ]
  },
  {
   "cell_type": "code",
   "execution_count": null,
   "metadata": {
    "dotnet_interactive": {
     "language": "csharp"
    },
    "polyglot_notebook": {
     "kernelName": "csharp"
    }
   },
   "outputs": [],
   "source": [
    "string oldList = $\"\"\"\n",
    "Notify_CHANNEL_AchievementCategoryRewardRequest\n",
    "Notify_CHANNEL_AchievementRewardRequest\n",
    "Notify_CHANNEL_AutoCombatStateChangedByUser\n",
    "Notify_CHANNEL_BattlefieldEntranceUIClosed\n",
    "Notify_CHANNEL_BattlefieldEntranceUIOpened\n",
    "\"\"\";"
   ]
  },
  {
   "cell_type": "code",
   "execution_count": null,
   "metadata": {
    "dotnet_interactive": {
     "language": "csharp"
    },
    "polyglot_notebook": {
     "kernelName": "csharp"
    }
   },
   "outputs": [],
   "source": [
    "string Preprocess(string singleLine)\n",
    "{\n",
    "    var i = singleLine.IndexOf('(');\n",
    "    if(i == -1)\n",
    "    {\n",
    "        WriteLine(singleLine + \"얘좀 이상\");\n",
    "        return string.Empty;\n",
    "    }\n",
    "    //return singleLine;\n",
    "    return singleLine[..i];\n",
    "}\n",
    "\n",
    "\n",
    "string[] ToStrings(string lines)\n",
    "{\n",
    "    var ret = new List<string>();\n",
    "    foreach(var line in lines.AsSpan().EnumerateLines())\n",
    "    {\n",
    "        ret.Add(line.ToString());\n",
    "    }\n",
    "    \n",
    "    return ret.ToArray();\n",
    "}\n",
    "\n",
    "var newCol = ToStrings(unprocessed)\n",
    "    .Select(x => Preprocess(x))\n",
    "    .ToArray();\n",
    "var oldCol = ToStrings(oldList);\n",
    "WriteLine(string.Join(\"\\n\\t\", newCol.Take(5)));\n",
    "WriteLine(string.Join(\"\\n\\t\", oldCol.Take(5)));\n",
    "\n",
    "\n",
    "var added = new List<string>();\n",
    "\n",
    "foreach (var nl in newCol)\n",
    "{\n",
    "    var flag =false;\n",
    "    foreach(var ol in oldCol)\n",
    "    {\n",
    "        \n",
    "        if(nl == ol){\n",
    "            flag = true;\n",
    "            break;\n",
    "        }\n",
    "    }\n",
    "    if(!flag){\n",
    "        added.Add(nl);\n",
    "    }\n",
    "}\n",
    "\n",
    "var removed = new List<string>();\n",
    "foreach(var ol in oldCol)\n",
    "{\n",
    "    var flag =false;\n",
    "    foreach (var nl in newCol)\n",
    "    {\n",
    "        \n",
    "        if(nl == ol){\n",
    "            flag = true;\n",
    "            break;\n",
    "        }\n",
    "    }\n",
    "    if(!flag){\n",
    "        removed.Add(ol);\n",
    "    }\n",
    "}\n",
    "\n",
    "WriteLine(\"======================\");\n",
    "WriteLine(string.Join(\"\\n\", added.Distinct().OrderBy(l => l)));\n",
    "WriteLine(\"======================\");\n",
    "WriteLine(string.Join(\"\\n\", removed.Distinct().OrderBy(l => l)));\n",
    "WriteLine(\"======================\");"
   ]
  },
  {
   "cell_type": "code",
   "execution_count": null,
   "metadata": {
    "dotnet_interactive": {
     "language": "csharp"
    },
    "polyglot_notebook": {
     "kernelName": "csharp"
    }
   },
   "outputs": [],
   "source": []
  },
  {
   "cell_type": "markdown",
   "metadata": {},
   "source": []
  }
 ],
 "metadata": {
  "kernelspec": {
   "display_name": ".NET (C#)",
   "language": "C#",
   "name": ".net-csharp"
  },
  "language_info": {
   "name": "polyglot-notebook"
  },
  "polyglot_notebook": {
   "kernelInfo": {
    "defaultKernelName": "csharp",
    "items": [
     {
      "aliases": [],
      "languageName": "csharp",
      "name": "csharp"
     }
    ]
   }
  }
 },
 "nbformat": 4,
 "nbformat_minor": 2
}
